{
 "cells": [
  {
   "cell_type": "code",
   "execution_count": 1,
   "metadata": {},
   "outputs": [
    {
     "name": "stderr",
     "output_type": "stream",
     "text": [
      "Using TensorFlow backend.\n"
     ]
    }
   ],
   "source": [
    "from keras.models import Sequential\n",
    "from keras import layers\n",
    "import numpy as np\n",
    "from six.moves import range"
   ]
  },
  {
   "cell_type": "markdown",
   "metadata": {},
   "source": [
    "# Addition \n",
    "- A + B"
   ]
  },
  {
   "cell_type": "markdown",
   "metadata": {},
   "source": [
    "## Parameters Config\n",
    "- Total data size: 80000\n",
    "- Maximum data: 999\n",
    "- Minimum data: 0\n",
    "- Maximum result: 1998\n",
    "- Minomum result: 0"
   ]
  },
  {
   "cell_type": "code",
   "execution_count": 2,
   "metadata": {},
   "outputs": [],
   "source": [
    "class colors:\n",
    "    ok = '\\033[92m'\n",
    "    fail = '\\033[91m'\n",
    "    close = '\\033[0m'"
   ]
  },
  {
   "cell_type": "code",
   "execution_count": 3,
   "metadata": {},
   "outputs": [],
   "source": [
    "TRAINING_SIZE = 80000\n",
    "DIGITS = 3\n",
    "REVERSE = False\n",
    "MAXLEN = DIGITS + 1 + DIGITS\n",
    "chars = '0123456789+ '\n",
    "RNN = layers.LSTM\n",
    "HIDDEN_SIZE = 128\n",
    "BATCH_SIZE = 128\n",
    "LAYERS = 1"
   ]
  },
  {
   "cell_type": "code",
   "execution_count": 4,
   "metadata": {},
   "outputs": [],
   "source": [
    "class CharacterTable(object):\n",
    "    def __init__(self, chars):\n",
    "        self.chars = sorted(set(chars))\n",
    "        self.char_indices = dict((c, i) for i, c in enumerate(self.chars))\n",
    "        self.indices_char = dict((i, c) for i, c in enumerate(self.chars))\n",
    "    \n",
    "    def encode(self, C, num_rows): # ex: (C=43+7, num_rows=MAXLEN) or (C=50, num_rows=DIGITS + 1)\n",
    "        x = np.zeros((num_rows, len(self.chars))) \n",
    "        for i, c in enumerate(C):\n",
    "            x[i, self.char_indices[c]] = 1\n",
    "        return x\n",
    "    \n",
    "    def decode(self, x, calc_argmax=True):\n",
    "        if calc_argmax:\n",
    "            x = x.argmax(axis=-1)\n",
    "        return \"\".join(self.indices_char[i] for i in x)"
   ]
  },
  {
   "cell_type": "code",
   "execution_count": 5,
   "metadata": {},
   "outputs": [],
   "source": [
    "ctable = CharacterTable(chars)"
   ]
  },
  {
   "cell_type": "code",
   "execution_count": 9,
   "metadata": {},
   "outputs": [
    {
     "data": {
      "text/plain": [
       "{' ': 0,\n",
       " '+': 1,\n",
       " '0': 2,\n",
       " '1': 3,\n",
       " '2': 4,\n",
       " '3': 5,\n",
       " '4': 6,\n",
       " '5': 7,\n",
       " '6': 8,\n",
       " '7': 9,\n",
       " '8': 10,\n",
       " '9': 11}"
      ]
     },
     "execution_count": 9,
     "metadata": {},
     "output_type": "execute_result"
    }
   ],
   "source": [
    "ctable.char_indices"
   ]
  },
  {
   "cell_type": "markdown",
   "metadata": {},
   "source": [
    "## Data Generation"
   ]
  },
  {
   "cell_type": "code",
   "execution_count": 6,
   "metadata": {},
   "outputs": [
    {
     "name": "stdout",
     "output_type": "stream",
     "text": [
      "Generating data...\n",
      "Total addition questions: 80000\n"
     ]
    }
   ],
   "source": [
    "questions = []\n",
    "expected = []\n",
    "seen = set()      # 用來確保資料不會重複\n",
    "print('Generating data...')\n",
    "while len(questions) < TRAINING_SIZE:\n",
    "    # f 是一個產生 1-3 位數亂數的 function\n",
    "    f = lambda: int(''.join(np.random.choice(list('0123456789')) for i in range(np.random.randint(1, DIGITS + 1))))\n",
    "    a, b = f(), f()\n",
    "    key = tuple(sorted((a, b)))\n",
    "    if key in seen: \n",
    "        continue\n",
    "    seen.add(key)\n",
    "    q = '{}+{}'.format(a, b) # 並沒有說小的數字放前面 大的數字放後面\n",
    "    query = q + ' ' * (MAXLEN - len(q)) # 確保 input 長度一樣\n",
    "    ans = str(a + b)\n",
    "    ans += ' ' * (DIGITS + 1 - len(ans))\n",
    "    if REVERSE:\n",
    "        query = query[::-1] # [::-1] 會讓 query 相反過來，例如 \"43+7   \" 變成 \"   7+34\"，這個寫法我都不知道\n",
    "    questions.append(query)\n",
    "    expected.append(ans)\n",
    "print('Total addition questions:', len(questions))"
   ]
  },
  {
   "cell_type": "code",
   "execution_count": 7,
   "metadata": {},
   "outputs": [
    {
     "name": "stdout",
     "output_type": "stream",
     "text": [
      "['368+847', '834+92 ', '69+3   ', '16+82  ', '10+156 '] ['1215', '926 ', '72  ', '98  ', '166 ']\n"
     ]
    }
   ],
   "source": [
    "print(questions[:5], expected[:5])"
   ]
  },
  {
   "cell_type": "markdown",
   "metadata": {},
   "source": [
    "## Processing"
   ]
  },
  {
   "cell_type": "code",
   "execution_count": 8,
   "metadata": {},
   "outputs": [
    {
     "name": "stdout",
     "output_type": "stream",
     "text": [
      "Vectorization...\n"
     ]
    }
   ],
   "source": [
    "print('Vectorization...')\n",
    "x = np.zeros((len(questions), MAXLEN, len(chars)), dtype=np.bool) \n",
    "y = np.zeros((len(expected), DIGITS + 1, len(chars)), dtype=np.bool)\n",
    "for i, sentence in enumerate(questions):\n",
    "    x[i] = ctable.encode(sentence, MAXLEN) # 取每一筆 sentence 的意思，每一筆 sentence 是用 7 * 12 的矩陣表示\n",
    "for i, sentence in enumerate(expected):\n",
    "    y[i] = ctable.encode(sentence, DIGITS + 1)"
   ]
  },
  {
   "cell_type": "code",
   "execution_count": 9,
   "metadata": {},
   "outputs": [
    {
     "name": "stdout",
     "output_type": "stream",
     "text": [
      "Training Data:\n",
      "(18000, 7, 12)\n",
      "(18000, 4, 12)\n",
      "Validation Data:\n",
      "(2000, 7, 12)\n",
      "(2000, 4, 12)\n",
      "Testing Data:\n",
      "(60000, 7, 12)\n",
      "(60000, 4, 12)\n"
     ]
    }
   ],
   "source": [
    "indices = np.arange(len(y))\n",
    "np.random.shuffle(indices) # 原來把資料弄亂還可以這樣寫\n",
    "x = x[indices]\n",
    "y = y[indices]\n",
    "\n",
    "# train_test_split\n",
    "train_x = x[:20000]    # 20000\n",
    "train_y = y[:20000]\n",
    "test_x = x[20000:]     # 60000\n",
    "test_y = y[20000:]\n",
    "\n",
    "split_at = len(train_x) - len(train_x) // 10  # split_at=18000\n",
    "(x_train, x_val) = train_x[:split_at], train_x[split_at:]\n",
    "(y_train, y_val) = train_y[:split_at], train_y[split_at:]\n",
    "\n",
    "print('Training Data:')\n",
    "print(x_train.shape)\n",
    "print(y_train.shape)\n",
    "\n",
    "print('Validation Data:')\n",
    "print(x_val.shape)\n",
    "print(y_val.shape)\n",
    "\n",
    "print('Testing Data:')\n",
    "print(test_x.shape)\n",
    "print(test_y.shape)"
   ]
  },
  {
   "cell_type": "markdown",
   "metadata": {},
   "source": [
    "## Build Model"
   ]
  },
  {
   "cell_type": "code",
   "execution_count": 50,
   "metadata": {},
   "outputs": [
    {
     "name": "stdout",
     "output_type": "stream",
     "text": [
      "Build model...\n",
      "_________________________________________________________________\n",
      "Layer (type)                 Output Shape              Param #   \n",
      "=================================================================\n",
      "lstm_27 (LSTM)               (None, 128)               72192     \n",
      "_________________________________________________________________\n",
      "repeat_vector_15 (RepeatVect (None, 4, 128)            0         \n",
      "_________________________________________________________________\n",
      "lstm_28 (LSTM)               (None, 4, 128)            131584    \n",
      "_________________________________________________________________\n",
      "time_distributed_12 (TimeDis (None, 4, 12)             1548      \n",
      "=================================================================\n",
      "Total params: 205,324\n",
      "Trainable params: 205,324\n",
      "Non-trainable params: 0\n",
      "_________________________________________________________________\n"
     ]
    }
   ],
   "source": [
    "print('Build model...')\n",
    "\n",
    "############################################\n",
    "##### Build your own model here ############\n",
    "############################################\n",
    "model = Sequential()\n",
    "# model.add(RNN(HIDDEN_SIZE, input_shape=(MAXLEN, len(chars)),return_sequences=True))\n",
    "model.add(RNN(HIDDEN_SIZE, input_shape=(MAXLEN, len(chars))))\n",
    "model.add(layers.RepeatVector(DIGITS + 1))\n",
    "# model.add(layers.Lambda(lambda x: x[:,-(DIGITS + 1):,:]))\n",
    "for _ in range(LAYERS):\n",
    "    model.add(RNN(HIDDEN_SIZE, return_sequences=True))\n",
    "\n",
    "model.add(layers.TimeDistributed(layers.Dense(len(chars), activation='softmax')))\n",
    "model.compile(loss='categorical_crossentropy',\n",
    "              optimizer='adam',\n",
    "              metrics=['acc'])\n",
    "model.summary()"
   ]
  },
  {
   "cell_type": "code",
   "execution_count": 56,
   "metadata": {},
   "outputs": [],
   "source": [
    "model.save('original_model.h5') "
   ]
  },
  {
   "cell_type": "markdown",
   "metadata": {},
   "source": [
    "## Training"
   ]
  },
  {
   "cell_type": "code",
   "execution_count": null,
   "metadata": {},
   "outputs": [],
   "source": [
    "originList = []\n",
    "for iteration in range(200):\n",
    "    print()\n",
    "    print('-' * 50)\n",
    "    print('Iteration', iteration)\n",
    "    result = model.fit(x_train, y_train,\n",
    "                      batch_size=BATCH_SIZE,\n",
    "                      epochs=1,\n",
    "                      validation_data=(x_val, y_val))\n",
    "    originList.append(result.history['val_acc'][0])\n",
    "    for i in range(10):\n",
    "        ind = np.random.randint(0, len(x_val))\n",
    "        rowx, rowy = x_val[np.array([ind])], y_val[np.array([ind])]\n",
    "        preds = model.predict_classes(rowx, verbose=0)\n",
    "        q = ctable.decode(rowx[0])\n",
    "        correct = ctable.decode(rowy[0])\n",
    "        guess = ctable.decode(preds[0], calc_argmax=False)\n",
    "        print('Q', q[::-1] if REVERSE else q, end=' ')\n",
    "        print('T', correct, end=' ')\n",
    "        if correct == guess:\n",
    "            print(colors.ok + '☑' + colors.close, end=' ')\n",
    "        else:\n",
    "            print(colors.fail + '☒' + colors.close, end=' ')\n",
    "        print(guess)"
   ]
  },
  {
   "cell_type": "markdown",
   "metadata": {},
   "source": [
    "## Testing"
   ]
  },
  {
   "cell_type": "code",
   "execution_count": 53,
   "metadata": {},
   "outputs": [
    {
     "name": "stdout",
     "output_type": "stream",
     "text": [
      "MSG : Prediction\n",
      "60000/60000 [==============================] - 4s 72us/step\n",
      "Loss: 0.03193951640563707\n",
      "Accuracy: 0.9897208333333334\n"
     ]
    }
   ],
   "source": [
    "print(\"MSG : Prediction\") \n",
    "loss, acc = model.evaluate(test_x,test_y)\n",
    "print(\"Loss:\",loss)\n",
    "print(\"Accuracy:\",acc)"
   ]
  },
  {
   "cell_type": "code",
   "execution_count": 24,
   "metadata": {},
   "outputs": [
    {
     "data": {
      "text/plain": [
       "['loss', 'acc']"
      ]
     },
     "execution_count": 24,
     "metadata": {},
     "output_type": "execute_result"
    }
   ],
   "source": [
    "model.metrics_names"
   ]
  },
  {
   "cell_type": "markdown",
   "metadata": {},
   "source": [
    "# Subtraction \n",
    "- (A - B, A ≥ B)\n",
    "\n",
    "## Parameters Config\n",
    "- Total data size: 80000\n",
    "- Maximum data: 999\n",
    "- Minimum data: 0\n",
    "- Maximum result: 999\n",
    "- Minomum result: 0"
   ]
  },
  {
   "cell_type": "code",
   "execution_count": 57,
   "metadata": {},
   "outputs": [],
   "source": [
    "chars_sub = '0123456789- '"
   ]
  },
  {
   "cell_type": "code",
   "execution_count": 58,
   "metadata": {},
   "outputs": [],
   "source": [
    "ctable_sub = CharacterTable(chars_sub)"
   ]
  },
  {
   "cell_type": "markdown",
   "metadata": {},
   "source": [
    "## Data Generation"
   ]
  },
  {
   "cell_type": "code",
   "execution_count": 63,
   "metadata": {},
   "outputs": [
    {
     "name": "stdout",
     "output_type": "stream",
     "text": [
      "Generating data...\n",
      "Total addition questions: 80000\n"
     ]
    }
   ],
   "source": [
    "questions_sub = []\n",
    "expected_sub = []\n",
    "seen_sub = set()      \n",
    "print('Generating data...')\n",
    "while len(questions_sub) < TRAINING_SIZE:\n",
    "    f = lambda: int(''.join(np.random.choice(list('0123456789')) for i in range(np.random.randint(1, DIGITS + 1))))\n",
    "    a, b = f(), f()\n",
    "    a, b = max(a,b),min(a,b)\n",
    "    key = tuple((a, b))\n",
    "    if key in seen: \n",
    "        continue\n",
    "    seen.add(key)\n",
    "    q = '{}-{}'.format(a,b) # 大減小\n",
    "    query = q + ' ' * (MAXLEN - len(q))\n",
    "    ans = str(a - b)\n",
    "    ans += ' ' * (DIGITS + 1 - len(ans))\n",
    "    if REVERSE:\n",
    "        query = query[::-1]\n",
    "    questions_sub.append(query)\n",
    "    expected_sub.append(ans)\n",
    "print('Total addition questions:', len(questions_sub))"
   ]
  },
  {
   "cell_type": "code",
   "execution_count": 66,
   "metadata": {},
   "outputs": [
    {
     "name": "stdout",
     "output_type": "stream",
     "text": [
      "['700-599', '888-879', '501-300', '196-134', '813-698'] ['101 ', '9   ', '201 ', '62  ', '115 ']\n"
     ]
    }
   ],
   "source": [
    "print(questions_sub[5:10], expected_sub[5:10])"
   ]
  },
  {
   "cell_type": "markdown",
   "metadata": {},
   "source": [
    "## Process"
   ]
  },
  {
   "cell_type": "code",
   "execution_count": 67,
   "metadata": {},
   "outputs": [
    {
     "name": "stdout",
     "output_type": "stream",
     "text": [
      "Vectorization...\n"
     ]
    }
   ],
   "source": [
    "print('Vectorization...')\n",
    "x = np.zeros((len(questions_sub), MAXLEN, len(chars_sub)), dtype=np.bool) \n",
    "y = np.zeros((len(expected_sub), DIGITS + 1, len(chars_sub)), dtype=np.bool)\n",
    "for i, sentence in enumerate(questions_sub):\n",
    "    x[i] = ctable_sub.encode(sentence, MAXLEN) \n",
    "for i, sentence in enumerate(expected_sub):\n",
    "    y[i] = ctable_sub.encode(sentence, DIGITS + 1)"
   ]
  },
  {
   "cell_type": "code",
   "execution_count": 68,
   "metadata": {},
   "outputs": [
    {
     "name": "stdout",
     "output_type": "stream",
     "text": [
      "Training Data:\n",
      "(18000, 7, 12)\n",
      "(18000, 4, 12)\n",
      "Validation Data:\n",
      "(2000, 7, 12)\n",
      "(2000, 4, 12)\n",
      "Testing Data:\n",
      "(60000, 7, 12)\n",
      "(60000, 4, 12)\n"
     ]
    }
   ],
   "source": [
    "indices = np.arange(len(y))\n",
    "np.random.shuffle(indices) \n",
    "x = x[indices]\n",
    "y = y[indices]\n",
    "\n",
    "# train_test_split\n",
    "train_x = x[:20000]    \n",
    "train_y = y[:20000]\n",
    "test_x = x[20000:]     \n",
    "test_y = y[20000:]\n",
    "\n",
    "split_at = len(train_x) - len(train_x) // 10  # split_at=18000\n",
    "(x_train, x_val) = train_x[:split_at], train_x[split_at:]\n",
    "(y_train, y_val) = train_y[:split_at], train_y[split_at:]\n",
    "\n",
    "print('Training Data:')\n",
    "print(x_train.shape)\n",
    "print(y_train.shape)\n",
    "\n",
    "print('Validation Data:')\n",
    "print(x_val.shape)\n",
    "print(y_val.shape)\n",
    "\n",
    "print('Testing Data:')\n",
    "print(test_x.shape)\n",
    "print(test_y.shape)"
   ]
  },
  {
   "cell_type": "markdown",
   "metadata": {},
   "source": [
    "## Build model"
   ]
  },
  {
   "cell_type": "code",
   "execution_count": 70,
   "metadata": {},
   "outputs": [
    {
     "name": "stdout",
     "output_type": "stream",
     "text": [
      "Build model...\n",
      "_________________________________________________________________\n",
      "Layer (type)                 Output Shape              Param #   \n",
      "=================================================================\n",
      "lstm_29 (LSTM)               (None, 128)               72192     \n",
      "_________________________________________________________________\n",
      "repeat_vector_16 (RepeatVect (None, 4, 128)            0         \n",
      "_________________________________________________________________\n",
      "lstm_30 (LSTM)               (None, 4, 128)            131584    \n",
      "_________________________________________________________________\n",
      "time_distributed_13 (TimeDis (None, 4, 12)             1548      \n",
      "=================================================================\n",
      "Total params: 205,324\n",
      "Trainable params: 205,324\n",
      "Non-trainable params: 0\n",
      "_________________________________________________________________\n"
     ]
    }
   ],
   "source": [
    "print('Build model...')\n",
    "\n",
    "model_sub = Sequential()\n",
    "# model.add(RNN(HIDDEN_SIZE, input_shape=(MAXLEN, len(chars)),return_sequences=True))\n",
    "model_sub.add(RNN(HIDDEN_SIZE, input_shape=(MAXLEN, len(chars_sub))))\n",
    "model_sub.add(layers.RepeatVector(DIGITS + 1))\n",
    "# model.add(layers.Lambda(lambda x: x[:,-(DIGITS + 1):,:]))\n",
    "for _ in range(LAYERS):\n",
    "    model_sub.add(RNN(HIDDEN_SIZE, return_sequences=True))\n",
    "\n",
    "model_sub.add(layers.TimeDistributed(layers.Dense(len(chars), activation='softmax')))\n",
    "model_sub.compile(loss='categorical_crossentropy',\n",
    "              optimizer='adam',\n",
    "              metrics=['acc'])\n",
    "model_sub.summary()"
   ]
  },
  {
   "cell_type": "markdown",
   "metadata": {},
   "source": [
    "## training"
   ]
  },
  {
   "cell_type": "code",
   "execution_count": null,
   "metadata": {},
   "outputs": [],
   "source": [
    "originList_sub = []\n",
    "for iteration in range(200):\n",
    "    print()\n",
    "    print('-' * 50)\n",
    "    print('Iteration', iteration)\n",
    "    result = model_sub.fit(x_train, y_train,\n",
    "                      batch_size=BATCH_SIZE,\n",
    "                      epochs=1,\n",
    "                      validation_data=(x_val, y_val))\n",
    "    originList_sub.append(result.history['val_acc'][0])\n",
    "    for i in range(10):\n",
    "        ind = np.random.randint(0, len(x_val))\n",
    "        rowx, rowy = x_val[np.array([ind])], y_val[np.array([ind])]\n",
    "        preds = model_sub.predict_classes(rowx, verbose=0)\n",
    "        q = ctable_sub.decode(rowx[0])\n",
    "        correct = ctable_sub.decode(rowy[0])\n",
    "        guess = ctable_sub.decode(preds[0], calc_argmax=False)\n",
    "        print('Q', q[::-1] if REVERSE else q, end=' ')\n",
    "        print('T', correct, end=' ')\n",
    "        if correct == guess:\n",
    "            print(colors.ok + '☑' + colors.close, end=' ')\n",
    "        else:\n",
    "            print(colors.fail + '☒' + colors.close, end=' ')\n",
    "        print(guess)"
   ]
  },
  {
   "cell_type": "code",
   "execution_count": 73,
   "metadata": {},
   "outputs": [],
   "source": [
    "model_sub.save('original_model_sub.h5') "
   ]
  },
  {
   "cell_type": "markdown",
   "metadata": {},
   "source": [
    "## Testing"
   ]
  },
  {
   "cell_type": "code",
   "execution_count": 74,
   "metadata": {},
   "outputs": [
    {
     "name": "stdout",
     "output_type": "stream",
     "text": [
      "MSG : Prediction\n",
      "60000/60000 [==============================] - 4s 74us/step\n",
      "Loss: 0.02964235748577242\n",
      "Accuracy: 0.9942666666666666\n"
     ]
    }
   ],
   "source": [
    "print(\"MSG : Prediction\") \n",
    "loss, acc = model_sub.evaluate(test_x,test_y)\n",
    "print(\"Loss:\",loss)\n",
    "print(\"Accuracy:\",acc)"
   ]
  },
  {
   "cell_type": "markdown",
   "metadata": {},
   "source": [
    "# Addition & Subtraction"
   ]
  },
  {
   "cell_type": "code",
   "execution_count": 76,
   "metadata": {},
   "outputs": [
    {
     "name": "stdout",
     "output_type": "stream",
     "text": [
      "Generating data...\n",
      "Total addition questions: 485640\n"
     ]
    }
   ],
   "source": [
    "chars_both = '0123456789+- '\n",
    "    \n",
    "ctable_both = CharacterTable(chars_both)\n",
    "\n",
    "questions_both = []\n",
    "expected_both = []\n",
    "seen_both = set()      \n",
    "print('Generating data...')\n",
    "itor = 0\n",
    "while len(questions_both) < TRAINING_SIZE:\n",
    "    f = lambda: int(''.join(np.random.choice(list('0123456789')) for i in range(np.random.randint(1, DIGITS + 1))))\n",
    "    a, b = f(), f()\n",
    "    key = tuple(sorted((a, b)))\n",
    "    if key in seen: \n",
    "        continue\n",
    "    seen.add(key)\n",
    "    if(itor % 2):\n",
    "        a, b = max(a,b), min(a,b)\n",
    "        q = '{}-{}'.format(a, b) \n",
    "        query = q + ' ' * (MAXLEN - len(q)) \n",
    "        ans = str(a - b)\n",
    "        ans += ' ' * (DIGITS + 1 - len(ans))\n",
    "        if REVERSE:\n",
    "            query = query[::-1] \n",
    "        questions_both.append(query)\n",
    "        expected_both.append(ans)\n",
    "    else:\n",
    "        q = '{}+{}'.format(a, b) \n",
    "        query = q + ' ' * (MAXLEN - len(q))\n",
    "        ans = str(a + b)\n",
    "        ans += ' ' * (DIGITS + 1 - len(ans))\n",
    "        if REVERSE:\n",
    "            query = query[::-1] \n",
    "        questions_both.append(query)\n",
    "        expected_both.append(ans)\n",
    "    itor += 1"
   ]
  },
  {
   "cell_type": "code",
   "execution_count": 78,
   "metadata": {},
   "outputs": [
    {
     "name": "stdout",
     "output_type": "stream",
     "text": [
      "['248+626', '962-309', '886+38 ', '878-543', '349+326'] ['874 ', '653 ', '924 ', '335 ', '675 ']\n"
     ]
    }
   ],
   "source": [
    "print(questions_both[:5],expected_both[:5])"
   ]
  },
  {
   "cell_type": "code",
   "execution_count": 79,
   "metadata": {},
   "outputs": [
    {
     "name": "stdout",
     "output_type": "stream",
     "text": [
      "Vectorization...\n"
     ]
    }
   ],
   "source": [
    "print('Vectorization...')\n",
    "x = np.zeros((len(questions_both), MAXLEN, len(chars_both)), dtype=np.bool) \n",
    "y = np.zeros((len(expected_both), DIGITS + 1, len(chars_both)), dtype=np.bool)\n",
    "for i, sentence in enumerate(questions_both):\n",
    "    x[i] = ctable_both.encode(sentence, MAXLEN) \n",
    "for i, sentence in enumerate(expected_both):\n",
    "    y[i] = ctable_both.encode(sentence, DIGITS + 1)"
   ]
  },
  {
   "cell_type": "code",
   "execution_count": 80,
   "metadata": {},
   "outputs": [
    {
     "name": "stdout",
     "output_type": "stream",
     "text": [
      "Training Data:\n",
      "(18000, 7, 13)\n",
      "(18000, 4, 13)\n",
      "Validation Data:\n",
      "(2000, 7, 13)\n",
      "(2000, 4, 13)\n",
      "Testing Data:\n",
      "(60000, 7, 13)\n",
      "(60000, 4, 13)\n"
     ]
    }
   ],
   "source": [
    "indices = np.arange(len(y))\n",
    "np.random.shuffle(indices) \n",
    "x = x[indices]\n",
    "y = y[indices]\n",
    "\n",
    "# train_test_split\n",
    "train_x = x[:20000]    \n",
    "train_y = y[:20000]\n",
    "test_x = x[20000:]     \n",
    "test_y = y[20000:]\n",
    "\n",
    "split_at = len(train_x) - len(train_x) // 10  # split_at=18000\n",
    "(x_train, x_val) = train_x[:split_at], train_x[split_at:]\n",
    "(y_train, y_val) = train_y[:split_at], train_y[split_at:]\n",
    "\n",
    "print('Training Data:')\n",
    "print(x_train.shape)\n",
    "print(y_train.shape)\n",
    "\n",
    "print('Validation Data:')\n",
    "print(x_val.shape)\n",
    "print(y_val.shape)\n",
    "\n",
    "print('Testing Data:')\n",
    "print(test_x.shape)\n",
    "print(test_y.shape)"
   ]
  },
  {
   "cell_type": "code",
   "execution_count": 82,
   "metadata": {},
   "outputs": [
    {
     "name": "stdout",
     "output_type": "stream",
     "text": [
      "Build model...\n",
      "_________________________________________________________________\n",
      "Layer (type)                 Output Shape              Param #   \n",
      "=================================================================\n",
      "lstm_33 (LSTM)               (None, 128)               72704     \n",
      "_________________________________________________________________\n",
      "repeat_vector_18 (RepeatVect (None, 4, 128)            0         \n",
      "_________________________________________________________________\n",
      "lstm_34 (LSTM)               (None, 4, 128)            131584    \n",
      "_________________________________________________________________\n",
      "time_distributed_15 (TimeDis (None, 4, 13)             1677      \n",
      "=================================================================\n",
      "Total params: 205,965\n",
      "Trainable params: 205,965\n",
      "Non-trainable params: 0\n",
      "_________________________________________________________________\n"
     ]
    }
   ],
   "source": [
    "print('Build model...')\n",
    "\n",
    "model_both = Sequential()\n",
    "model_both.add(RNN(HIDDEN_SIZE, input_shape=(MAXLEN, len(chars_both))))\n",
    "model_both.add(layers.RepeatVector(DIGITS + 1))\n",
    "for _ in range(LAYERS):\n",
    "    model_both.add(RNN(HIDDEN_SIZE, return_sequences=True))\n",
    "\n",
    "model_both.add(layers.TimeDistributed(layers.Dense(len(chars_both), activation='softmax')))\n",
    "model_both.compile(loss='categorical_crossentropy',\n",
    "              optimizer='adam',\n",
    "              metrics=['acc'])\n",
    "model_both.summary()"
   ]
  },
  {
   "cell_type": "code",
   "execution_count": null,
   "metadata": {},
   "outputs": [],
   "source": [
    "originList_both = []\n",
    "for iteration in range(200):\n",
    "    print()\n",
    "    print('-' * 50)\n",
    "    print('Iteration', iteration)\n",
    "    result = model_both.fit(x_train, y_train,\n",
    "                      batch_size=BATCH_SIZE,\n",
    "                      epochs=1,\n",
    "                      validation_data=(x_val, y_val))\n",
    "    originList_both.append(result.history['val_acc'][0])\n",
    "    for i in range(10):\n",
    "        ind = np.random.randint(0, len(x_val))\n",
    "        rowx, rowy = x_val[np.array([ind])], y_val[np.array([ind])]\n",
    "        preds = model_both.predict_classes(rowx, verbose=0)\n",
    "        q = ctable_both.decode(rowx[0])\n",
    "        correct = ctable_both.decode(rowy[0])\n",
    "        guess = ctable_both.decode(preds[0], calc_argmax=False)\n",
    "        print('Q', q[::-1] if REVERSE else q, end=' ')\n",
    "        print('T', correct, end=' ')\n",
    "        if correct == guess:\n",
    "            print(colors.ok + '☑' + colors.close, end=' ')\n",
    "        else:\n",
    "            print(colors.fail + '☒' + colors.close, end=' ')\n",
    "        print(guess)"
   ]
  },
  {
   "cell_type": "code",
   "execution_count": 88,
   "metadata": {},
   "outputs": [],
   "source": [
    "model_both.save('original_model_both.h5')"
   ]
  },
  {
   "cell_type": "code",
   "execution_count": 89,
   "metadata": {},
   "outputs": [
    {
     "name": "stdout",
     "output_type": "stream",
     "text": [
      "60000/60000 [==============================] - 5s 76us/step\n"
     ]
    }
   ],
   "source": [
    "loss, acc = model_both.evaluate(test_x,test_y)"
   ]
  },
  {
   "cell_type": "code",
   "execution_count": 90,
   "metadata": {},
   "outputs": [
    {
     "name": "stdout",
     "output_type": "stream",
     "text": [
      "Accuracy: 0.9773958333333334\n"
     ]
    }
   ],
   "source": [
    "print(\"Accuracy:\",acc)"
   ]
  },
  {
   "cell_type": "markdown",
   "metadata": {},
   "source": [
    "# Discussion\n",
    "- 學習加法和減法的進度是很像的，但前提是減法一定是大減小，因此不需要考慮負的數字\n",
    "- 同時學會加法和減法一定是比較困難的，因此需要比較多 epoch 才能達到學一個的準確率"
   ]
  },
  {
   "cell_type": "code",
   "execution_count": 91,
   "metadata": {},
   "outputs": [],
   "source": [
    "import matplotlib.pyplot as plt"
   ]
  },
  {
   "cell_type": "code",
   "execution_count": 100,
   "metadata": {},
   "outputs": [
    {
     "data": {
      "text/plain": [
       "<matplotlib.legend.Legend at 0x1588d8ba8>"
      ]
     },
     "execution_count": 100,
     "metadata": {},
     "output_type": "execute_result"
    },
    {
     "data": {
      "image/png": "[encoded data removed]",
      "text/plain": [
       "<Figure size 900x600 with 1 Axes>"
      ]
     },
     "metadata": {
      "needs_background": "light"
     },
     "output_type": "display_data"
    }
   ],
   "source": [
    "fig = plt.figure(figsize=(9,6),dpi=100)  \n",
    "fig.suptitle('Accuracy change with epoch increase',y = 0.95, fontsize = 14, fontweight='bold')\n",
    "ax = fig.add_subplot(1,1,1)\n",
    "ax.plot(originList, color='b', label='Learn addition')\n",
    "ax.plot(originList_sub, color='g', label='Learn subtraction')\n",
    "ax.plot(originList_both, color='r', label='Learn both' )\n",
    "ax.set_xlabel(\"Epoch\")      \n",
    "ax.set_ylabel(\"Accuracy\")\n",
    "ax.legend(loc=4)"
   ]
  },
  {
   "cell_type": "code",
   "execution_count": null,
   "metadata": {},
   "outputs": [],
   "source": []
  }
 ],
 "metadata": {
  "kernelspec": {
   "display_name": "Python 3",
   "language": "python",
   "name": "python3"
  },
  "language_info": {
   "codemirror_mode": {
    "name": "ipython",
    "version": 3
   },
   "file_extension": ".py",
   "mimetype": "text/x-python",
   "name": "python",
   "nbconvert_exporter": "python",
   "pygments_lexer": "ipython3",
   "version": "3.6.5"
  }
 },
 "nbformat": 4,
 "nbformat_minor": 2
}
